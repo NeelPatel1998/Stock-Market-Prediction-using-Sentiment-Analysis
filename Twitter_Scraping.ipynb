{
 "cells": [
  {
   "cell_type": "code",
   "execution_count": 1,
   "metadata": {},
   "outputs": [
    {
     "name": "stdout",
     "output_type": "stream",
     "text": [
      "Month Done : 1/2015\n",
      "Exception occured\n",
      "Exception occured\n",
      "Exception occured\n",
      "Month Done : 2/2015\n",
      "Month Done : 3/2015\n",
      "Exception occured\n",
      "Month Done : 4/2015\n",
      "Month Done : 5/2015\n",
      "Exception occured\n",
      "Month Done : 6/2015\n",
      "Month Done : 7/2015\n",
      "Month Done : 8/2015\n",
      "Exception occured\n",
      "Month Done : 9/2015\n",
      "Month Done : 10/2015\n",
      "Exception occured\n",
      "Month Done : 11/2015\n",
      "Month Done : 12/2015\n",
      "Month Done : 1/2016\n",
      "Exception occured\n",
      "Exception occured\n",
      "Month Done : 2/2016\n",
      "Month Done : 3/2016\n",
      "Exception occured\n",
      "Month Done : 4/2016\n",
      "Month Done : 5/2016\n",
      "Exception occured\n",
      "Month Done : 6/2016\n",
      "Month Done : 7/2016\n",
      "Month Done : 8/2016\n",
      "Exception occured\n",
      "Month Done : 9/2016\n",
      "Month Done : 10/2016\n",
      "Exception occured\n",
      "Month Done : 11/2016\n",
      "Month Done : 12/2016\n"
     ]
    }
   ],
   "source": [
    "from twitterscraper import query_tweets\n",
    "import pandas as pd\n",
    "from datetime import date\n",
    "from datetime import timedelta\n",
    "query = 'HDFC'\n",
    "i = 1\n",
    "for year in range (2015,2017):\n",
    "    for month in range (1,13):\n",
    "        for day in range (1,32):\n",
    "            try:\n",
    "                start_date = date(year,month,day)\n",
    "                end_date = start_date + timedelta(days=1)\n",
    "                HDFC_tweets = query_tweets(query, limit=600, begindate= start_date, enddate = end_date , poolsize=20, lang= 'english')\n",
    "                if i == 1:\n",
    "                    i = 0\n",
    "                    org_db = pd.DataFrame(t.__dict__ for t in HDFC_tweets)\n",
    "                    org_db.drop(['username', 'tweet_id', 'tweet_url', 'timestamp_epochs', 'text_html', 'links', 'has_media', 'img_urls', 'video_url', 'is_replied', 'is_reply_to', 'parent_tweet_id', 'reply_to_users'] , axis = 1, inplace=True)\n",
    "                    org_db = org_db.drop_duplicates(subset='text', keep='first')\n",
    "                    org_db = org_db[~org_db['screen_name'].str.contains('HDFC')]\n",
    "                    org_db = org_db[~org_db['screen_name'].str.contains('ifsc')]\n",
    "                    org_db = org_db[~org_db['screen_name'].str.contains('IFSC')]\n",
    "                    org_db = org_db[~org_db['text'].str.contains('@HDFC')]\n",
    "                    \n",
    "                else:\n",
    "                    df = pd.DataFrame(t.__dict__ for t in HDFC_tweets)\n",
    "                    df.drop(['username', 'tweet_id', 'tweet_url', 'timestamp_epochs', 'text_html', 'links', 'has_media', 'img_urls', 'video_url', 'is_replied', 'is_reply_to', 'parent_tweet_id', 'reply_to_users'] , axis = 1, inplace=True)\n",
    "                    df = df.drop_duplicates(subset='text', keep='first')\n",
    "                    df = df[~df['screen_name'].str.contains('HDFC')]\n",
    "                    df = df[~df['screen_name'].str.contains('ifsc')]\n",
    "                    df = df[~df['screen_name'].str.contains('IFSC')]\n",
    "                    df = df[~df['text'].str.contains('@HDFC')]\n",
    "                    org_db = org_db.append(df, ignore_index = True)\n",
    "            except:\n",
    "                print(\"Exception occured\")\n",
    "                pass\n",
    "        org_db.to_csv('Tweets/HDFC/tweets_'+ str(month) + '_' + str(year) +'.csv')\n",
    "        print(\"Month Done : \" + str(month) + \"/\" + str(year))\n",
    "        i = 1\n"
   ]
  },
  {
   "cell_type": "code",
   "execution_count": null,
   "metadata": {},
   "outputs": [],
   "source": []
  }
 ],
 "metadata": {
  "kernelspec": {
   "display_name": "Python 3",
   "language": "python",
   "name": "python3"
  },
  "language_info": {
   "codemirror_mode": {
    "name": "ipython",
    "version": 3
   },
   "file_extension": ".py",
   "mimetype": "text/x-python",
   "name": "python",
   "nbconvert_exporter": "python",
   "pygments_lexer": "ipython3",
   "version": "3.7.6"
  }
 },
 "nbformat": 4,
 "nbformat_minor": 4
}
