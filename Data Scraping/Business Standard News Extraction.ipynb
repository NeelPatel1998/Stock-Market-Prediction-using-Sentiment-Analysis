{
 "cells": [
  {
   "cell_type": "markdown",
   "metadata": {},
   "source": [
    "## Business Standard News Extraction "
   ]
  },
  {
   "cell_type": "code",
   "execution_count": 1,
   "metadata": {},
   "outputs": [],
   "source": [
    "import requests\n",
    "import datetime\n",
    "from bs4 import BeautifulSoup\n",
    "import pandas as pd\n",
    "import arrow\n"
   ]
  },
  {
   "cell_type": "markdown",
   "metadata": {},
   "source": [
    "# Getting Data from Business standard news archive"
   ]
  },
  {
   "cell_type": "code",
   "execution_count": null,
   "metadata": {},
   "outputs": [],
   "source": [
    "data = {'Headline' : [], 'day' : [], 'month' :[], 'year' : []}\n",
    "\n",
    "for year in range (2015,2020):\n",
    "    for month in range (1,13):\n",
    "        for day in range (1,32):\n",
    "            link = 'https://www.business-standard.com/todays-paper?print_dd='+str(day)+'&print_mm='+str(month)+'&print_yy='+str(year)\n",
    "            try:\n",
    "                r = requests.get(link);\n",
    "            except:\n",
    "                print(\"link invalid\")\n",
    "                pass\n",
    "            print ('link accessed')\n",
    "            soup = BeautifulSoup(r.content,\"html.parser\")\n",
    "            for headline in soup.select(\"ul li h2 a\"):\n",
    "                data['Headline'].append(headline.text)\n",
    "                data['day'].append(day)\n",
    "                data['month'].append(month)\n",
    "                data['year'].append(year)\n",
    "        print(\"Month Done\")\n",
    "    print(\"Year Done\")\n",
    "df = pd.DataFrame(data)"
   ]
  },
  {
   "cell_type": "code",
   "execution_count": 2,
   "metadata": {},
   "outputs": [],
   "source": [
    "df.to_csv('news.csv') # Storing data in csv"
   ]
  },
  {
   "cell_type": "markdown",
   "metadata": {},
   "source": [
    "Checking Data"
   ]
  },
  {
   "cell_type": "code",
   "execution_count": 15,
   "metadata": {},
   "outputs": [
    {
     "name": "stdout",
     "output_type": "stream",
     "text": [
      "<class 'pandas.core.frame.DataFrame'>\n",
      "RangeIndex: 148967 entries, 0 to 148966\n",
      "Data columns (total 5 columns):\n",
      " #   Column      Non-Null Count   Dtype \n",
      "---  ------      --------------   ----- \n",
      " 0   Unnamed: 0  148967 non-null  int64 \n",
      " 1   Headline    148967 non-null  object\n",
      " 2   day         148967 non-null  int64 \n",
      " 3   month       148967 non-null  int64 \n",
      " 4   year        148967 non-null  int64 \n",
      "dtypes: int64(4), object(1)\n",
      "memory usage: 5.7+ MB\n"
     ]
    }
   ],
   "source": [
    "f = pd.read_csv('news.csv')\n",
    "f.info()\n"
   ]
  },
  {
   "cell_type": "code",
   "execution_count": null,
   "metadata": {},
   "outputs": [],
   "source": []
  },
  {
   "cell_type": "code",
   "execution_count": null,
   "metadata": {},
   "outputs": [],
   "source": []
  },
  {
   "cell_type": "code",
   "execution_count": null,
   "metadata": {},
   "outputs": [],
   "source": []
  }
 ],
 "metadata": {
  "kernelspec": {
   "display_name": "Python 3",
   "language": "python",
   "name": "python3"
  },
  "language_info": {
   "codemirror_mode": {
    "name": "ipython",
    "version": 3
   },
   "file_extension": ".py",
   "mimetype": "text/x-python",
   "name": "python",
   "nbconvert_exporter": "python",
   "pygments_lexer": "ipython3",
   "version": "3.7.6"
  }
 },
 "nbformat": 4,
 "nbformat_minor": 4
}
